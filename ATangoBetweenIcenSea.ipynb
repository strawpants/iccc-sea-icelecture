{
 "cells": [
  {
   "cell_type": "code",
   "execution_count": 3,
   "metadata": {
    "slideshow": {
     "slide_type": "skip"
    }
   },
   "outputs": [],
   "source": [
    "%load_ext autoreload\n",
    "%autoreload 2"
   ]
  },
  {
   "cell_type": "code",
   "execution_count": 4,
   "metadata": {
    "slideshow": {
     "slide_type": "skip"
    }
   },
   "outputs": [],
   "source": [
    "from lecture.tools import hideCode,FlexSlide"
   ]
  },
  {
   "cell_type": "markdown",
   "metadata": {
    "slideshow": {
     "slide_type": "slide"
    }
   },
   "source": [
    "# A Tango between Ice and Sea level\n",
    "<center>\n",
    "<div class=\"layered-div\">\n",
    " <img src=\"images/tango-burgas-12.jpg\" alt=\"Tango dancers\" style=\"width: 800px;\"/>\n",
    "    <div class=\"over-top-right\"> <a href=\"https://travelbulgaria.news/wp-content/uploads/2017/04/tango-burgas-12.jpg\"><small>image credit</small></a></div>\n",
    "</div></center>\n",
    "Roelof Rietbroek, with contributions from Ingo Sasgen, Thomas Frederikse, Andreas Groh, Riccardo Riva\n",
    "\n",
    "Relevant ICCC joint working groups:\n",
    "* JWG C.3: Geodesy for the Cryosphere: advancing the use of geodetic data in polar climate modelling\n",
    "* JWG C.4: Sea level and vertical land motion"
   ]
  },
  {
   "cell_type": "code",
   "execution_count": 5,
   "metadata": {
    "slideshow": {
     "slide_type": "slide"
    }
   },
   "outputs": [
    {
     "data": {
      "text/html": [
       "<div id=\"768c50d3d7713bd9\"></div>\n",
       "    <script type=\"text/javascript\">\n",
       "        $(function(){\n",
       "            var p = $(\"#768c50d3d7713bd9\");\n",
       "            if (p.length==0) return;\n",
       "            while (!p.hasClass(\"cell\")) {\n",
       "                p=p.parent();\n",
       "                if (p.prop(\"tagName\") ==\"body\") return;\n",
       "            }\n",
       "            var cell = p;\n",
       "            cell.find(\".input\").addClass(\"hide-in-slideshow\")\n",
       "        });\n",
       "    </script>"
      ]
     },
     "metadata": {},
     "output_type": "display_data"
    },
    {
     "data": {
      "text/markdown": [
       "# They've been dancing since the last Quaternary (~2.6 Million yrs bp)\n",
       "<div class=\"flxsld text_cell\" >\n",
       "\n",
       "\n",
       "<div class=\"\">\n",
       "\n",
       "<div class=\"flx50\"><img src=\"images/GowanIceTango.webp\" alt=\"Sea level and ice volume over the last 80k year\" style=\"width:650px;\" /><small> <a href=\"https://www.nature.com/articles/s41467-021-21469-w\" > Evan Gowan et al. 2021 </a></small></div></div>\n",
       "<div class=\"\">\n",
       "\n",
       "<div class=\"flx50\"><img src=\"images/gowan2021LGM.webp\" alt=\"\" style=\"width:650px;\" /></div></div>\n",
       "<div class=\"flx100\">\n",
       "\n",
       "<ul><li class=\"fragment fade-in\">Sealevel <-> ice volume</li><li class=\"fragment fade-in\">How do we know? sea level indicators and proxies: corals, oxygen isotopes,..</li><li class=\"fragment fade-in\">Challenge is to reconcile sea level indicators with physics of glacial isostatic adjustment</li></ul></div>\n",
       "\n",
       "</div>"
      ],
      "text/plain": [
       "<lecture.tools.FlexSlide at 0x7f8a38016850>"
      ]
     },
     "metadata": {},
     "output_type": "display_data"
    }
   ],
   "source": [
    "slide=FlexSlide(\"# They've been dancing since the last Quaternary (~2.6 Million yrs bp)\")\n",
    "slide.addimg(\"images/GowanIceTango.webp\",alt=\"Sea level and ice volume over the last 80k year\",caption=\" <a href=\\\"https://www.nature.com/articles/s41467-021-21469-w\\\" > Evan Gowan et al. 2021 </a>\",flxwidth=\"flx50\",width=\"650px\")\n",
    "slide.addimg(\"images/gowan2021LGM.webp\",flxwidth=\"flx50\",width=\"650px\")\n",
    "# slide.addmd(\"[Gowan et al. 2021](https://www.nature.com/articles/s41467-021-21469-w)\",flxwidth=\"flx33\")\n",
    "slide.addItems([\"Sealevel <-> ice volume\",\"How do we know? sea level indicators and proxies: corals, oxygen isotopes,..\",\"Challenge is to reconcile sea level indicators with physics of glacial isostatic adjustment\"],flxwidth=\"flx100\", frag=True)\n",
    "slide.display()"
   ]
  },
  {
   "cell_type": "code",
   "execution_count": 22,
   "metadata": {
    "cell_style": "center",
    "slideshow": {
     "slide_type": "slide"
    }
   },
   "outputs": [
    {
     "data": {
      "text/html": [
       "<div id=\"e669ddcdd231d2cb\"></div>\n",
       "    <script type=\"text/javascript\">\n",
       "        $(function(){\n",
       "            var p = $(\"#e669ddcdd231d2cb\");\n",
       "            if (p.length==0) return;\n",
       "            while (!p.hasClass(\"cell\")) {\n",
       "                p=p.parent();\n",
       "                if (p.prop(\"tagName\") ==\"body\") return;\n",
       "            }\n",
       "            var cell = p;\n",
       "            cell.find(\".input\").addClass(\"hide-in-slideshow\")\n",
       "        });\n",
       "    </script>"
      ]
     },
     "metadata": {},
     "output_type": "display_data"
    },
    {
     "data": {
      "text/markdown": [
       "# More recent times: direct (geodetic) observations of sea level\n",
       "<div class=\"flxsld text_cell\" >\n",
       "\n",
       "\n",
       "<div class=\"\">\n",
       "\n",
       "<div class=\"flx50\"><img src=\"images/PortLouisCombined.png\" alt=\"Map of relevant sea level observation sites in the Falklands\" style=\"width:450px;\" /><small> <a href=\"https://agupubs.onlinelibrary.wiley.com/doi/abs/10.1029/2010JC006113\" > Woodworth et al. 2010 </a></small></div></div>\n",
       "<div class=\"\">\n",
       "\n",
       "<div class=\"flx50\"><img src=\"images/RossBenchmark.png\" alt=\"Sea level Ross benchmark from 1842\" style=\"width:450px;\" /><small> <a href=\"https://agupubs.onlinelibrary.wiley.com/doi/abs/10.1029/2010JC006113\" > Woodtworth et al. 2010 </a></small></div></div>\n",
       "<div class=\"\">\n",
       "\n",
       "<ul><li>Example: Sea level measurements at the Falkland islands</li><li>Expedition by </li></ul></div>\n",
       "\n",
       "</div>"
      ],
      "text/plain": [
       "<lecture.tools.FlexSlide at 0x7f8a29176130>"
      ]
     },
     "metadata": {},
     "output_type": "display_data"
    }
   ],
   "source": [
    "slidetg=FlexSlide(\"# More recent times: direct (geodetic) observations of sea level\")\n",
    "slidetg.addimg(\"images/PortLouisCombined.png\",alt=\"Map of relevant sea level observation sites in the Falklands\",caption=\" <a href=\\\"https://agupubs.onlinelibrary.wiley.com/doi/abs/10.1029/2010JC006113\\\" > Woodworth et al. 2010 </a>\",flxwidth=\"flx50\",width=\"450px\")\n",
    "slidetg.addimg(\"images/RossBenchmark.png\",alt=\"Sea level Ross benchmark from 1842\",caption=\" <a href=\\\"https://agupubs.onlinelibrary.wiley.com/doi/abs/10.1029/2010JC006113\\\" > Woodtworth et al. 2010 </a>\",flxwidth=\"flx50\",width=\"450px\")\n",
    "slidetg.addItems([\"Example: Sea level measurements at the Falkland islands\",\"Expedition by \"])\n",
    "# slide.addimg(\"images/gowan2021LGM.webp\",flxwidth=\"flx50\",width=\"650px\")\n",
    "# # slide.addmd(\"[Gowan et al. 2021](https://www.nature.com/articles/s41467-021-21469-w)\",flxwidth=\"flx33\")\n",
    "# slide.addItems([\"Sealevel <-> ice volume\",\"How do we know? sea level indicators and proxies: corals, oxygen isotopes,..\",\"Challenge is to reconcile sea level indicators with physics of glacial isostatic adjustment\"],flxwidth=\"flx100\", frag=True)\n",
    "slidetg.display()\n",
    "# ![Woodworth et al. 2010](images/RossBenchmark.png)\n",
    "# ![Woodworth et al. 2010](images/Falklands.png)\n",
    "# ![Woodworth et al. 2010](images/RossSeaLevel1842.png)\n",
    "# ![fsf](images/SeaLevelPLconnectGPS.png)\n",
    "# 1839 James Clark Ross set out on a voyage of discovery and research in the Southern Ocean that was to last until 1843\n",
    "# [Woodworth et al. 2010])https://agupubs.onlinelibrary.wiley.com/doi/full/10.1029/2010JC006113)"
   ]
  },
  {
   "cell_type": "code",
   "execution_count": null,
   "metadata": {
    "slideshow": {
     "slide_type": "slide"
    }
   },
   "outputs": [],
   "source": [
    "* Using a chalkboard (fine, forces students to stay alert, but hard to copy & distribute)\n",
    "* TF Thanks to old geodetic obs, we can use old data to study ice and sea level changes (Kjeldsen et al. 2016) and Woodworth 2010 in the Falklands\n",
    "[IS] Make clear that past data collection served mainly n cademic puropse, while today essential climate variables are measured for coping with climate change"
   ]
  },
  {
   "cell_type": "markdown",
   "metadata": {
    "slideshow": {
     "slide_type": "slide"
    }
   },
   "source": [
    "# Cryosphere\n",
    "\n",
    "Slides Andreas\n"
   ]
  },
  {
   "cell_type": "markdown",
   "metadata": {
    "slideshow": {
     "slide_type": "slide"
    }
   },
   "source": [
    "# Global sea level \n",
    "\n",
    "* Highlight Paper Thomas"
   ]
  },
  {
   "cell_type": "markdown",
   "metadata": {},
   "source": [
    "\n",
    "# from global to regional\n",
    "Move from ice sheets to global contributions\n",
    "Zoom in to regional examples and vertical land motion\n",
    "Do tide gauges see what altimeters are seeing\n",
    "Emerging field: coastal subsidence monitoring with GPS and inSAR, [IS] near-coastal altimetry\n",
    "https://www.nature.com/articles/s43017-020-00115-x\n",
    "[IS] From regional projections to coastal protection – why this is complicated."
   ]
  },
  {
   "cell_type": "markdown",
   "metadata": {
    "cell_style": "center",
    "slideshow": {
     "slide_type": "slide"
    }
   },
   "source": [
    "# Regional sea level\n",
    "* Highlight recent paper on Atlantic\n"
   ]
  },
  {
   "cell_type": "markdown",
   "metadata": {
    "cell_style": "center",
    "slideshow": {
     "slide_type": "slide"
    }
   },
   "source": [
    "# Looking in the future\n",
    "* Highlight paper by Aimee? (projections)\n",
    "* Future strategies: are we taking enough advantage of geodetic data? Move into climate sciences, but also move in\n",
    "* Keeping projections in check: What would we like to have as a future observation system?\n",
    "* The future of computing: Cloud versus local computing\n",
    "* Making research accessible\n",
    "\n",
    "Boundaries of geophysical observation systems? New ideas for next gen of scientists\n",
    "## diccuss ICCC & JWG's\n",
    "JWG.3 is about 1) enhancing the use of geodetic data in ice sheet and glacier modeling, 2) understanding requirements of modelling community and 3) exploring potential of future geodetic observables."
   ]
  },
  {
   "cell_type": "markdown",
   "metadata": {
    "slideshow": {
     "slide_type": "slide"
    }
   },
   "source": [
    "# More possiblities when using the jupyter notebook in combination with the rise extension (like this one)\n",
    "\n",
    "* Run presentation directly froma jupyter notebook\n",
    "    * Allows to dynamically run code cells (pretty cool!)\n",
    "    * Use a chalkboard and draw on the screen or slides (also pretty cool!)\n",
    "* more difficult to export to static html (no satisfying solution is present at the time of writing)"
   ]
  },
  {
   "cell_type": "markdown",
   "metadata": {
    "slideshow": {
     "slide_type": "slide"
    }
   },
   "source": [
    "## Prepare your slides\n",
    "* [Install the rise notebook extension](https://rise.readthedocs.io/en/stable/installation.html)\n",
    "* Clone this template repository\n",
    "* In Jupyter notebook go to   *edit*$\\rightarrow$    *Edit Notebook Metadata*. And change the footer text and date in the rise section.\n",
    "* Possibly change the logo image file\n",
    "* Press `Alt-r` to view (check out [other rise shortcuts](https://rise.readthedocs.io/en/maint-5.5/customize.html#keyboard-shortcuts-and-jupyter-actions))"
   ]
  },
  {
   "cell_type": "markdown",
   "metadata": {
    "cell_style": "center",
    "slideshow": {
     "slide_type": "slide"
    }
   },
   "source": [
    "#### Do some live coding in your presentation\n",
    "Note: this only works when the notebook is hosted from a jupyter notebook server\n",
    "\n"
   ]
  },
  {
   "cell_type": "code",
   "execution_count": 1,
   "metadata": {
    "cell_style": "center",
    "slideshow": {
     "slide_type": "fragment"
    }
   },
   "outputs": [
    {
     "name": "stdout",
     "output_type": "stream",
     "text": [
      "blah blah blah at 2020-12-16 11:31:01.236984\n"
     ]
    }
   ],
   "source": [
    "#let's make a silly print function and try executing it\n",
    "from datetime import datetime\n",
    "def testprint():\n",
    "    print(\"blah blah blah at %s\"%datetime.now())\n",
    "\n",
    "testprint()"
   ]
  },
  {
   "cell_type": "markdown",
   "metadata": {
    "slideshow": {
     "slide_type": "slide"
    }
   },
   "source": [
    "# So you can do live plotting with matplotlib"
   ]
  },
  {
   "cell_type": "code",
   "execution_count": 2,
   "metadata": {
    "cell_style": "split",
    "slideshow": {
     "slide_type": "fragment"
    }
   },
   "outputs": [
    {
     "data": {
      "image/png": "[encoded data removed]",
      "text/plain": [
       "<Figure size 432x288 with 1 Axes>"
      ]
     },
     "metadata": {
      "needs_background": "light"
     },
     "output_type": "display_data"
    }
   ],
   "source": [
    "import matplotlib.pyplot as plt\n",
    "import numpy as np\n",
    "import math\n",
    "\n",
    "t=np.arange(-10,10,0.1)\n",
    "\n",
    "sint=[math.cos(x) for x in t]\n",
    "\n",
    "plt.plot(t,sint)\n",
    "plt.show()"
   ]
  },
  {
   "cell_type": "markdown",
   "metadata": {
    "slideshow": {
     "slide_type": "slide"
    }
   },
   "source": [
    "## You can also easily insert latex formula's in your cells\n",
    "$$c = \\sqrt{a^2 + b^2}$$"
   ]
  },
  {
   "cell_type": "markdown",
   "metadata": {
    "slideshow": {
     "slide_type": "fragment"
    }
   },
   "source": [
    "But please, don't overdo it with those formula's. It's a heavy cognitive burden for your audience 😉"
   ]
  },
  {
   "cell_type": "markdown",
   "metadata": {
    "slideshow": {
     "slide_type": "fragment"
    }
   },
   "source": [
    "<font size=\"2\">PS. I just copy pasted the emoji from [here](https://emojipedia.org/)</font>"
   ]
  },
  {
   "cell_type": "markdown",
   "metadata": {
    "slideshow": {
     "slide_type": "slide"
    }
   },
   "source": [
    "## You can insert images using the markdown syntax: \n",
    "`![alt text](images/catmissing.jpg)`\n",
    "\n",
    "![alt text](images/catmissing.jpg)\n"
   ]
  },
  {
   "cell_type": "markdown",
   "metadata": {
    "slideshow": {
     "slide_type": "slide"
    }
   },
   "source": [
    "## But if you want more control over the size and style of the image you need to insert some html:\n",
    "`<img src=\"images/catmissing.jpg\" alt=\"logo larger\" style=\"width: 300px;\"/>`\n",
    "\n",
    "<img src=\"images/catmissing.jpg\" alt=\"logo larger\" style=\"width: 300px;\"/>"
   ]
  },
  {
   "cell_type": "code",
   "execution_count": 3,
   "metadata": {
    "slideshow": {
     "slide_type": "slide"
    }
   },
   "outputs": [
    {
     "ename": "NameError",
     "evalue": "name 'FlexSlide' is not defined",
     "output_type": "error",
     "traceback": [
      "\u001b[0;31m---------------------------------------------------------------------------\u001b[0m",
      "\u001b[0;31mNameError\u001b[0m                                 Traceback (most recent call last)",
      "\u001b[0;32m<ipython-input-3-2af56103687b>\u001b[0m in \u001b[0;36m<module>\u001b[0;34m\u001b[0m\n\u001b[0;32m----> 1\u001b[0;31m \u001b[0mslide\u001b[0m\u001b[0;34m=\u001b[0m\u001b[0mFlexSlide\u001b[0m\u001b[0;34m(\u001b[0m\u001b[0;34m\"# There are some python tools in [lecture/tools.py](lecture/tools.py) for more flexible slide layouts\"\u001b[0m\u001b[0;34m)\u001b[0m\u001b[0;34m\u001b[0m\u001b[0;34m\u001b[0m\u001b[0m\n\u001b[0m\u001b[1;32m      2\u001b[0m \u001b[0mslide\u001b[0m\u001b[0;34m.\u001b[0m\u001b[0maddmd\u001b[0m\u001b[0;34m(\u001b[0m\u001b[0;34m\"You can add flexboxes with markdown content, by starting [a `FlexSlide` object](https://css-tricks.com/snippets/css/a-guide-to-flexbox/) and they will be dynamically positioned in your browser\"\u001b[0m\u001b[0;34m,\u001b[0m \u001b[0mflxwidth\u001b[0m\u001b[0;34m=\u001b[0m\u001b[0;34m\"flx50\"\u001b[0m\u001b[0;34m)\u001b[0m\u001b[0;34m\u001b[0m\u001b[0;34m\u001b[0m\u001b[0m\n\u001b[1;32m      3\u001b[0m \u001b[0mslide\u001b[0m\u001b[0;34m.\u001b[0m\u001b[0maddItems\u001b[0m\u001b[0;34m(\u001b[0m\u001b[0;34m[\u001b[0m\u001b[0;34m\"add a first bullet\"\u001b[0m\u001b[0;34m,\u001b[0m\u001b[0;34m\"and another bullet\"\u001b[0m\u001b[0;34m]\u001b[0m\u001b[0;34m,\u001b[0m\u001b[0mflxwidth\u001b[0m\u001b[0;34m=\u001b[0m\u001b[0;34m\"flx50\"\u001b[0m\u001b[0;34m,\u001b[0m\u001b[0mfrag\u001b[0m\u001b[0;34m=\u001b[0m\u001b[0;32mTrue\u001b[0m\u001b[0;34m)\u001b[0m\u001b[0;34m\u001b[0m\u001b[0;34m\u001b[0m\u001b[0m\n\u001b[1;32m      4\u001b[0m \u001b[0mslide\u001b[0m\u001b[0;34m.\u001b[0m\u001b[0maddimg\u001b[0m\u001b[0;34m(\u001b[0m\u001b[0;34m\"images/catmissing.jpg\"\u001b[0m\u001b[0;34m,\u001b[0m\u001b[0mcaption\u001b[0m\u001b[0;34m=\u001b[0m\u001b[0;34m\"Or images, which can also be added as fragments\"\u001b[0m\u001b[0;34m,\u001b[0m\u001b[0mwidth\u001b[0m\u001b[0;34m=\u001b[0m\u001b[0;34m\"400px\"\u001b[0m\u001b[0;34m,\u001b[0m\u001b[0mfrag\u001b[0m\u001b[0;34m=\u001b[0m\u001b[0;32mTrue\u001b[0m\u001b[0;34m)\u001b[0m\u001b[0;34m\u001b[0m\u001b[0;34m\u001b[0m\u001b[0m\n\u001b[1;32m      5\u001b[0m \u001b[0;34m\u001b[0m\u001b[0m\n",
      "\u001b[0;31mNameError\u001b[0m: name 'FlexSlide' is not defined"
     ]
    }
   ],
   "source": [
    "slide=FlexSlide(\"# There are some python tools in [lecture/tools.py](lecture/tools.py) for more flexible slide layouts\")\n",
    "slide.addmd(\"You can add flexboxes with markdown content, by starting [a `FlexSlide` object](https://css-tricks.com/snippets/css/a-guide-to-flexbox/) and they will be dynamically positioned in your browser\", flxwidth=\"flx50\")\n",
    "slide.addItems([\"add a first bullet\",\"and another bullet\"],flxwidth=\"flx50\",frag=True)\n",
    "slide.addimg(\"images/catmissing.jpg\",caption=\"Or images, which can also be added as fragments\",width=\"400px\",frag=True)\n",
    "\n",
    "slide.display()"
   ]
  },
  {
   "cell_type": "markdown",
   "metadata": {
    "slideshow": {
     "slide_type": "slide"
    }
   },
   "source": [
    "## You can also embed svg images (use inkscape!)\n",
    "<div class=\"flexcol\">\n",
    "<div>\n",
    "    \n",
    "* Edit your image in the [images folder ](images/) with Inkscape (and use Menu -> Text -> \"Convert to Text\" for textflow elements)\n",
    "* Export your image as **optimized svg** and don't embed images but leave them in the `images/` folder\n",
    "* Call the function `embedSVG(..)` in a code cell\n",
    "* Bonus: directly add the *reveal.js* fragment codes (use inkscape xml editor and add class `fragment fade-in` to the appriopriate groups\n",
    "* An example can be found on the subslide\n",
    "</div>\n",
    "<div>\n",
    "<img src=\"images/inkscapesave.png\" alt=\"inkscape dialog\" style=\"width: 600px;\"/>\n",
    "</div>\n",
    "</div>"
   ]
  },
  {
   "cell_type": "code",
   "execution_count": 3,
   "metadata": {
    "slideshow": {
     "slide_type": "fragment"
    }
   },
   "outputs": [
    {
     "data": {
      "text/html": [
       "<div id=\"e15b7ab8bec559fe\"></div>\n",
       "    <script type=\"text/javascript\">\n",
       "        $(function(){\n",
       "            var p = $(\"#e15b7ab8bec559fe\");\n",
       "            if (p.length==0) return;\n",
       "            while (!p.hasClass(\"cell\")) {\n",
       "                p=p.parent();\n",
       "                if (p.prop(\"tagName\") ==\"body\") return;\n",
       "            }\n",
       "            var cell = p;\n",
       "            cell.find(\".input\").addClass(\"hide-in-slideshow\")\n",
       "        });\n",
       "    </script>"
      ]
     },
     "metadata": {},
     "output_type": "display_data"
    },
    {
     "data": {
      "text/markdown": [
       "# Embed a fragmented SVG\n",
       "<div class=\"flxsld text_cell\" >\n",
       "\n",
       "\n",
       "<div \">\n",
       "\n",
       "<svg xmlns=\"http://www.w3.org/2000/svg\" xmlns:cc=\"http://creativecommons.org/ns#\" xmlns:dc=\"http://purl.org/dc/elements/1.1/\" xmlns:rdf=\"http://www.w3.org/1999/02/22-rdf-syntax-ns#\" xmlns:xlink=\"http://www.w3.org/1999/xlink\" width=\"400px\" version=\"1.1\" viewBox=\"0 0 190.5 197.11\">\n",
       " <metadata>\n",
       "  <rdf:RDF>\n",
       "   <cc:Work rdf:about=\"\">\n",
       "    <dc:format>image/svg+xml</dc:format>\n",
       "    <dc:type rdf:resource=\"http://purl.org/dc/dcmitype/StillImage\"/>\n",
       "    <dc:title/>\n",
       "   </cc:Work>\n",
       "  </rdf:RDF>\n",
       " </metadata>\n",
       " <g transform=\"translate(-12.851 -48.764)\">\n",
       "  <image x=\"12.851\" y=\"48.764\" width=\"190.5\" height=\"197.11\" preserveAspectRatio=\"none\" xlink:href=\"images/catmissing.jpg\"/>\n",
       "  <image x=\"26.08\" y=\"190.79\" width=\"28.474\" height=\"21.356\" stroke-width=\"13.938\" preserveAspectRatio=\"none\" xlink:href=\"images/cat.jpg\"/>\n",
       "  <g class=\"fragment fade-up\">\n",
       "   <path d=\"m54.555 190.65c0.96594-1.2727 2.661-2.3827 2.8978-3.8181 0.08781-0.53225-1.5345 0.12996-2.2679 0-0.34572-0.0613-0.43722-0.4229-0.75595-0.53587-0.4443-0.15748-3.4712 0.1458-3.7798 0-0.46882-0.22156-0.35753-0.78933-0.75595-1.0718-0.17818-0.12631-0.50397 0-0.75595 0-0.50397 0-1.0611 0.15977-1.5119 0-0.22538-0.0799 0.22538-0.45599 0-0.53587-0.68252-0.24192-3.6695 0.20467-4.5357 0-0.33807-0.0799-0.41788-0.45599-0.75595-0.53588-0.71716-0.16946-1.5119 0-2.2679 0h-5.2917-2.2679c-0.25198 0-0.57777-0.12631-0.75595 0s0.11269 0.37611 0 0.53588c-0.31874 0.45188-1.0667 0.67723-1.5119 1.0718-0.78707 0.69741-1.4808 1.4461-2.2679 2.1435-0.50397 0.44656-2.0159 1.2504-2.2679 1.6076-0.22538 0.31953 0.27955 0.7745 0 1.0718-1.8415 1.9581-1.1066-0.57457-2.2679 1.0718-0.22538 0.31953 0.15937 0.73283 0 1.0718-1.8252 3.8816 0.21794-0.84487-1.5119 1.6076-0.11269 0.15976 0.06112 0.36258 0 0.53587-0.19326 0.54801-0.62495 1.0505-0.75595 1.6076-0.12428 0.52859 0 1.0718 0 1.6076 0 0.17862 0.07969 0.36642 0 0.53587-0.17818 0.37892-0.57777 0.69283-0.75595 1.0718-0.07969 0.16946 0.07968 0.36641 0 0.53588-0.17818 0.37892-0.57777 0.69282-0.75595 1.0718-0.07968 0.16946 0.06112 0.36259 0 0.53587-0.19326 0.548-0.56269 1.0596-0.75595 1.6076-0.06111 0.1733 0.07968 0.36643 0 0.53588-0.17818 0.37893-0.4434 0.73942-0.75595 1.0718-0.19767 0.21019-0.64326 0.29622-0.75595 0.53587-0.34406 0.73169 0.34406 2.4836 0 3.2153-0.11269 0.23965-0.64326 0.29623-0.75595 0.53587-0.04772 0.1015-0.04772 3.1138 0 3.2153 0.11269 0.23965 0.64326 0.29622 0.75595 0.53588 0.15937 0.33891 0 0.7145 0 1.0718 0 0.17863-0.11269 0.37611 0 0.53588 0.5789 0.82073 1.3471 0.41906 2.2679 1.0718 0.17818 0.12631-0.22538 0.45599 0 0.53587 0.45076 0.15977 1.0338-0.11297 1.5119 0 0.33807 0.0799 0.43722 0.42291 0.75595 0.53588 1.2137 0.43019 2.5397 0.68107 3.7798 1.0718 1.0298 0.32443 1.9547 0.81913 3.0238 1.0718 0.41954 0.0991 5.1414 0 6.0476 0h8.3155c0.7097 0 3.3466 0.10235 3.7798 0 0.33807-0.0799 0.40651-0.48634 0.75595-0.53588 0.98836-0.14012 2.0159 0 3.0238 0h4.5357c0.25198 0 0.57777 0.12631 0.75595 0 0.39842-0.28243 0.35753-0.78932 0.75596-1.0718 0.35636-0.25261 1.0611 0.15977 1.5119 0 0.31874-0.11296 0.43722-0.4229 0.75595-0.53587 0.45076-0.15977 1.0611 0.15977 1.5119 0 0.31874-0.11297 0.50397-0.35726 0.75595-0.53588s0.59658-0.30993 0.75595-0.53587c0.11269-0.15977-0.11269-0.37611 0-0.53588 0.15937-0.22594 0.50397-0.35725 0.75595-0.53587 0.50397-0.35725 1.1166-0.65138 1.5119-1.0718 0.13978-0.14864-0.07968-0.36642 0-0.53588 2.1415-3.0361-0.28173 0.79883 0.75595-2.1435-0.45563-0.9699 1.2246-0.99663 1.5119-1.6076 0.31874-0.67783-0.31874-1.4657 0-2.1435 0.11269-0.23966 0.66952-0.29082 0.75595-0.53588 0-3.8008-0.53454-0.31391 0.75595-2.1435 0.11269-0.15977 0-0.35725 0-0.53588 0-0.35724-0.12223-0.72516 0-1.0718 0.13666-0.38749 0.57777-0.69283 0.75595-1.0718 0.0527-0.11207 0.0527-2.5673 0-2.6794-0.17818-0.37892-0.57777-0.69283-0.75595-1.0718-0.07968-0.16946 0.11269-0.37611 0-0.53588-0.15937-0.22594-0.64326-0.29622-0.75595-0.53588-0.15937-0.33891 0.15937-0.73282 0-1.0718-0.11269-0.23964-0.59658-0.30993-0.75595-0.53587-0.11269-0.15977 0.07968-0.36642 0-0.53588-0.17818-0.37893-0.50397-0.71449-0.75595-1.0718-0.25198-0.35725-0.4434-0.73942-0.75595-1.0718-0.19767-0.21019-0.64326-0.29623-0.75595-0.53588-0.15937-0.33892 0.35636-0.81913 0-1.0718-0.35636-0.25261-1.0611 0.15977-1.5119 0-0.22538-0.0799 0.11269-0.37611 0-0.53588-1.573-2.2302 0.05219 0.57287-1.5119-0.53588-0.39842-0.28242-0.35753-0.78931-0.75595-1.0718-0.17818-0.1263-0.61618 0.14863-0.75595 0-0.44201-0.46999-0.31394-1.1376-0.75595-1.6076-0.27955-0.29726-1.0611 0.15976-1.5119 0-2.6421-0.93647 1.4075-0.074-0.75595-1.6076-0.25199-0.17863-0.3996 0.53588-0.75596 0.53588-0.25198 0 0.17818-0.40957 0-0.53588-0.17818-0.12631-0.50397 0-0.75595 0-1.0079 0-2.022 0.0789-3.0238 0-7.2483-0.57091-1.8631-0.53588-4.5357-0.53588h-1.5119c-0.25199 0-0.94263-0.11998-0.75595 0 2.9548 1.8992 6.1316 3.6172 9.1974 5.4257\" fill=\"none\" stroke=\"#f70d0d\" stroke-width=\"4.265\"/>\n",
       "   <text x=\"71.059372\" y=\"217.01552\" fill=\"#f70d0d\" font-family=\"sans-serif\" font-size=\"2.4694px\" letter-spacing=\"0px\" text-align=\"justify\" word-spacing=\"0px\" style=\"font-feature-settings:normal;font-variant-caps:normal;font-variant-ligatures:normal;font-variant-numeric:normal;line-height:1.25\" xml:space=\"preserve\"><tspan x=\"71.059372\" y=\"217.01552\"><tspan x=\"71.059372\" y=\"217.01552\" fill=\"#f70d0d\" font-size=\"16.933px\">here</tspan></tspan></text>\n",
       "  </g>\n",
       " </g>\n",
       "</svg></div>\n",
       "\n",
       "</div>"
      ],
      "text/plain": [
       "<lecture.tools.FlexSlide at 0x7f3d4882fd00>"
      ]
     },
     "metadata": {},
     "output_type": "display_data"
    }
   ],
   "source": [
    "slide2=FlexSlide(\"# Embed a fragmented SVG\")\n",
    "slide2.addSVG(\"images/cathere.svg\",width=\"400px\")\n",
    "# embedSVG(\"images/cathere.svg\",width=\"400px\")\n",
    "slide2.display()"
   ]
  },
  {
   "cell_type": "markdown",
   "metadata": {
    "slideshow": {
     "slide_type": "slide"
    }
   },
   "source": [
    "# Want if I want to print the slides to a pdf and spam my colleagues inbox?\n",
    "\n",
    "[Try this](https://rise.readthedocs.io/en/stable/exportpdf.html)\n",
    "* The decktape solution worked for me and there is a [small bash script](exportToPdf.sh) which may help you with this.\n",
    "* Note: if you want to produce a pdf for printing, you may want to consider using a light theme so students don't have to buy a new cartridge every time the print your lecture. Please set the `{\"rise\",\"theme\"}` variable in your jupyter notebook metadata\n"
   ]
  },
  {
   "cell_type": "markdown",
   "metadata": {
    "slideshow": {
     "slide_type": "slide"
    }
   },
   "source": [
    "# That's all for now\n",
    "\n",
    "Here's some food for throught:\n",
    "* [Reveal.js (the underlying javascript which makes this possible)](https://revealjs.com/#/)\n",
    "* [Working with Jupyter notebook slides](https://www.markroepke.me/posts/2019/05/23/creating-interactive-slideshows-in-jupyter.html)\n",
    "\n",
    "* [tips and tricks](https://www.markroepke.me/posts/2019/06/05/tips-for-slideshows-in-jupyter.html)\n",
    "\n",
    "* [rise nbextension](https://rise.readthedocs.io/en/stable/)\n",
    "* [working with flexboxes](https://css-tricks.com/snippets/css/a-guide-to-flexbox/)\n",
    "### Issues and TODO\n",
    "* enable better export to static html (respecting footer and reveal theme, thgese are currently lost)\n",
    "* more consistent coloring and font use (modify rise.css)\n",
    "* Extent the FlexSlide class with a more consistent calling\n",
    "* jupyterlab doesn't seem to respect the latex codes so formula's aren't rendered properly classic jupyter notebook works though"
   ]
  }
 ],
 "metadata": {
  "celltoolbar": "Slideshow",
  "kernelspec": {
   "display_name": "pyrr",
   "language": "python",
   "name": "pyrr"
  },
  "language_info": {
   "codemirror_mode": {
    "name": "ipython",
    "version": 3
   },
   "file_extension": ".py",
   "mimetype": "text/x-python",
   "name": "python",
   "nbconvert_exporter": "python",
   "pygments_lexer": "ipython3",
   "version": "3.9.2"
  },
  "rise": {
   "autolaunch": true,
   "enable_chalkboard": true,
   "footer": "<div><h3>A Tango between Ice and Sea level, R. Rietbroek, ICCC Workshop, 29-31 March 2020</h3></div><div id=\"logobox\"><img src=\"images/logo.svg\" alt=\"Logo\"/></div>",
   "slideNumber": "c/t",
   "theme": "black",
   "transition": "None"
  }
 },
 "nbformat": 4,
 "nbformat_minor": 2
}
