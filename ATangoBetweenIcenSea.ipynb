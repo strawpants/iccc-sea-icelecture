{
 "cells": [
  {
   "cell_type": "code",
   "execution_count": 1,
   "metadata": {
    "slideshow": {
     "slide_type": "skip"
    }
   },
   "outputs": [],
   "source": [
    "%load_ext autoreload\n",
    "%autoreload 2"
   ]
  },
  {
   "cell_type": "code",
   "execution_count": 2,
   "metadata": {
    "slideshow": {
     "slide_type": "skip"
    }
   },
   "outputs": [],
   "source": [
    "from lecture.tools import hideCode,FlexSlide"
   ]
  },
  {
   "cell_type": "markdown",
   "metadata": {
    "slideshow": {
     "slide_type": "slide"
    }
   },
   "source": [
    "# A Tango between Ice and Sea level\n",
    "<center>\n",
    "<div class=\"layered-div\">\n",
    " <img src=\"images/tango-burgas-12.jpg\" alt=\"Tango dancers\" style=\"width: 800px;\"/>\n",
    "    <div class=\"over-top-right\"> <a href=\"https://travelbulgaria.news/wp-content/uploads/2017/04/tango-burgas-12.jpg\"><small>image credit</small></a></div>\n",
    "</div></center>\n",
    "Roelof Rietbroek, with contributions from Ingo Sasgen, Thomas Frederikse, Andreas Groh, Riccardo Riva\n",
    "\n",
    "Relevant ICCC joint working groups:\n",
    "* JWG C.3: Geodesy for the Cryosphere: advancing the use of geodetic data in polar climate modelling\n",
    "* JWG C.4: Sea level and vertical land motion"
   ]
  },
  {
   "cell_type": "code",
   "execution_count": 19,
   "metadata": {
    "slideshow": {
     "slide_type": "slide"
    }
   },
   "outputs": [
    {
     "data": {
      "text/html": [
       "<div id=\"1a54344b59e6c477\"></div>\n",
       "    <script type=\"text/javascript\">\n",
       "        $(function(){\n",
       "            var p = $(\"#1a54344b59e6c477\");\n",
       "            if (p.length==0) return;\n",
       "            while (!p.hasClass(\"cell\")) {\n",
       "                p=p.parent();\n",
       "                if (p.prop(\"tagName\") ==\"body\") return;\n",
       "            }\n",
       "            var cell = p;\n",
       "            cell.find(\".input\").addClass(\"hide-in-slideshow\")\n",
       "        });\n",
       "    </script>"
      ]
     },
     "metadata": {},
     "output_type": "display_data"
    },
    {
     "data": {
      "text/markdown": [
       "# They've been dancing since the last Quaternary (~2.6 Million yrs bp)\n",
       "<div class=\"flxsld text_cell\" >\n",
       "\n",
       "\n",
       "<div class=\"flx50 \"><img src=\"images/GowanIceTango.webp\" alt=\"Sea level and ice volume over the last 80k year\" style=\"width:550px;\" /><small> <a href=\"https://www.nature.com/articles/s41467-021-21469-w\" > Evan Gowan et al. 2021 </a></small></div>\n",
       "<div class=\"flx50 \"><img src=\"images/gowan2021LGM.webp\" alt=\"\" style=\"width:550px;\" /></div>\n",
       "<div class=\"flx100\">\n",
       "\n",
       "<ul><li class=\"fragment fade-in\">Sealevel💃<->🕺🏽 ice volume</li><li class=\"fragment fade-in\">How do we know? sea level indicators and proxies: corals, oxygen isotopes,..</li><li class=\"fragment fade-in\">Challenge is to reconcile sea level indicators with physics of glacial isostatic adjustment</li></ul></div>\n",
       "\n",
       "</div>"
      ],
      "text/plain": [
       "<lecture.tools.FlexSlide at 0x7f14b196afa0>"
      ]
     },
     "metadata": {},
     "output_type": "display_data"
    }
   ],
   "source": [
    "slide=FlexSlide(\"# They've been dancing since the last Quaternary (~2.6 Million yrs bp)\")\n",
    "slide.addimg(\"images/GowanIceTango.webp\",alt=\"Sea level and ice volume over the last 80k year\",caption=\" <a href=\\\"https://www.nature.com/articles/s41467-021-21469-w\\\" > Evan Gowan et al. 2021 </a>\",flxwidth=\"flx50\",width=\"550px\")\n",
    "slide.addimg(\"images/gowan2021LGM.webp\",flxwidth=\"flx50\",width=\"550px\")\n",
    "slide.addItems([\"Sealevel💃<->🕺ice volume\",\"How do we know? sea level indicators and proxies: corals, oxygen isotopes,..\",\"Challenge is to reconcile sea level indicators with physics of glacial isostatic adjustment\"],flxwidth=\"flx100\", frag=True)\n",
    "slide.display()"
   ]
  },
  {
   "cell_type": "code",
   "execution_count": 4,
   "metadata": {
    "slideshow": {
     "slide_type": "slide"
    }
   },
   "outputs": [
    {
     "data": {
      "text/html": [
       "<div id=\"e6ca8d85dec49f8c\"></div>\n",
       "    <script type=\"text/javascript\">\n",
       "        $(function(){\n",
       "            var p = $(\"#e6ca8d85dec49f8c\");\n",
       "            if (p.length==0) return;\n",
       "            while (!p.hasClass(\"cell\")) {\n",
       "                p=p.parent();\n",
       "                if (p.prop(\"tagName\") ==\"body\") return;\n",
       "            }\n",
       "            var cell = p;\n",
       "            cell.find(\".input\").addClass(\"hide-in-slideshow\")\n",
       "        });\n",
       "    </script>"
      ]
     },
     "metadata": {},
     "output_type": "display_data"
    },
    {
     "data": {
      "text/markdown": [
       "# Direct observations of sea level: Tide Gauges\n",
       "<div class=\"flxsld text_cell\" >\n",
       "\n",
       "\n",
       "<div class=\"flx75 \"><img src=\"images/psmsl.png\" alt=\"global plot of tide gauge locations\" style=\"width:800px;\" /><small><a href=\"https:psmsl.org\">Tide gauge locations from the Permanent Service of Mean Sea level (PSMSL)</a></small></div>\n",
       "<div class=\"flx25 \"><img src=\"images/GreenlandTG1926.jpg\" alt=\"Inspection of a Greenland tide gauge\" style=\"width:500px;\" /><small><a href=\"https://www.climate.gov/news-features/climate-tech/reading-between-tides-200-years-measuring-global-sea-level\">Inspection of a Greenland TG, 1926, Credit: NOAA</a></small></div>\n",
       "<div class=\"flx100\">\n",
       "\n",
       "<ul><li>Some tide gauge records go back to the 18-19th century!</li><li>Useful for charting tides, but also <b>relative sea level</b> rise</li><li>'Asymmetrical' coverage (space and time)</li></ul></div>\n",
       "\n",
       "</div>"
      ],
      "text/plain": [
       "<lecture.tools.FlexSlide at 0x7f14cbd55490>"
      ]
     },
     "metadata": {},
     "output_type": "display_data"
    }
   ],
   "source": [
    "slidetg0=FlexSlide(\"# Direct observations of sea level: Tide Gauges\")\n",
    "slidetg0.addimg(\"images/psmsl.png\",alt=\"global plot of tide gauge locations\",flxwidth=\"flx75\",width=\"800px\",caption=\"<a href=\\\"https:psmsl.org\\\">Tide gauge locations from the Permanent Service of Mean Sea level (PSMSL)</a>\")\n",
    "slidetg0.addimg(\"images/GreenlandTG1926.jpg\",alt=\"Inspection of a Greenland tide gauge\",flxwidth=\"flx25\",width=\"500px\",caption=\"<a href=\\\"https://www.climate.gov/news-features/climate-tech/reading-between-tides-200-years-measuring-global-sea-level\\\">Inspection of a Greenland TG, 1926, Credit: NOAA</a>\")\n",
    "slidetg0.addItems([\"Some tide gauge records go back to the 18-19th century!\",\"Useful for charting tides, but also <b>relative sea level</b> rise\",\"\\'Asymmetrical\\' coverage (space and time)\"],flxwidth=\"flx100\")\n",
    "slidetg0.display()"
   ]
  },
  {
   "cell_type": "code",
   "execution_count": 5,
   "metadata": {
    "cell_style": "center",
    "slideshow": {
     "slide_type": "slide"
    }
   },
   "outputs": [
    {
     "data": {
      "text/html": [
       "<div id=\"9599f681b39ef7a1\"></div>\n",
       "    <script type=\"text/javascript\">\n",
       "        $(function(){\n",
       "            var p = $(\"#9599f681b39ef7a1\");\n",
       "            if (p.length==0) return;\n",
       "            while (!p.hasClass(\"cell\")) {\n",
       "                p=p.parent();\n",
       "                if (p.prop(\"tagName\") ==\"body\") return;\n",
       "            }\n",
       "            var cell = p;\n",
       "            cell.find(\".input\").addClass(\"hide-in-slideshow\")\n",
       "        });\n",
       "    </script>"
      ]
     },
     "metadata": {},
     "output_type": "display_data"
    },
    {
     "data": {
      "text/markdown": [
       "# James Clark Ross' voyage of research and discovery in the Southern Ocean (1839-1843)\n",
       "<div class=\"flxsld text_cell\" >\n",
       "\n",
       "\n",
       "<div class=\"flx33 \"><img src=\"images/RossBenchmark.png\" alt=\"Sea level Ross benchmark from 1842\" style=\"width:450px;\" /></div>\n",
       "<div class=\"flx33 \"><img src=\"images/PortLouisCombined.png\" alt=\"Map of relevant sea level observation sites in the Falklands\" style=\"width:450px;\" /><small> <a href=\"https://agupubs.onlinelibrary.wiley.com/doi/abs/10.1029/2010JC006113\" > Woodworth et al. 2010 </a></small></div>\n",
       "<div class=\"flx33\">\n",
       "\n",
       "<ul><li>Take home message: Make benchmarks as indestructible as possible</li><li>19th century sea level observations (~1 year) in the Falklands (Port Louis)</li><li>Corrections needed: air pressure (IB), Glacial Isostatic Adjustment</li><li>Connecting the history series to more recent records yields a trend estimate of 1.23 ± 0.22 mm/yr (Woodworth et al. 2010)</li></ul></div>\n",
       "\n",
       "</div>"
      ],
      "text/plain": [
       "<lecture.tools.FlexSlide at 0x7f14b196a250>"
      ]
     },
     "metadata": {},
     "output_type": "display_data"
    }
   ],
   "source": [
    "slidetg=FlexSlide(\"# James Clark Ross' voyage of research and discovery in the Southern Ocean (1839-1843)\")\n",
    "slidetg.addimg(\"images/RossBenchmark.png\",alt=\"Sea level Ross benchmark from 1842\",flxwidth=\"flx33\",width=\"450px\")\n",
    "slidetg.addimg(\"images/PortLouisCombined.png\",alt=\"Map of relevant sea level observation sites in the Falklands\",flxwidth=\"flx33\",width=\"450px\",caption=\" <a href=\\\"https://agupubs.onlinelibrary.wiley.com/doi/abs/10.1029/2010JC006113\\\" > Woodworth et al. 2010 </a>\")\n",
    "slidetg.addItems([\"Take home message: Make benchmarks as indestructible as possible\",\"19th century sea level observations (~1 year) in the Falklands (Port Louis)\",\"Corrections needed: air pressure (IB), Glacial Isostatic Adjustment\",\"Connecting the history series to more recent records yields a trend estimate of 1.23 ± 0.22 mm/yr (Woodworth et al. 2010)\"],flxwidth=\"flx33\")\n",
    "slidetg.display()"
   ]
  },
  {
   "cell_type": "code",
   "execution_count": 6,
   "metadata": {
    "slideshow": {
     "slide_type": "slide"
    }
   },
   "outputs": [
    {
     "data": {
      "text/html": [
       "<div id=\"8320c8185af13280\"></div>\n",
       "    <script type=\"text/javascript\">\n",
       "        $(function(){\n",
       "            var p = $(\"#8320c8185af13280\");\n",
       "            if (p.length==0) return;\n",
       "            while (!p.hasClass(\"cell\")) {\n",
       "                p=p.parent();\n",
       "                if (p.prop(\"tagName\") ==\"body\") return;\n",
       "            }\n",
       "            var cell = p;\n",
       "            cell.find(\".input\").addClass(\"hide-in-slideshow\")\n",
       "        });\n",
       "    </script>"
      ]
     },
     "metadata": {},
     "output_type": "display_data"
    },
    {
     "data": {
      "text/markdown": [
       "# Using areal photography of Greenland to estimate glacier changes (Kjeldsen et al. 2015)\n",
       "<div class=\"flxsld text_cell\" >\n",
       "\n",
       "\n",
       "<div class=\"flx50\">\n",
       "\n",
       "<ul><li>Areal photography from the 80's provide early snapshots of the glaciers</li><li>Use geometric relationship to map front locations to glacier mass change</li><li>Identify ice fronts and lateral moraines in DEM to estimate the ice extent in 1900</li><li>Shows and accelerated mass balance from -75+/-29 Gt/yr (1900-1983) to -186+/-19 Gt/yr (2003-2010)</li></ul></div>\n",
       "<div class=\"flx50 center\"><img src=\"images/kjeldsen2015Greenland.png\" alt=\"Greenland mass change\" style=\"width:600px;\" /><small><a href=\"https://www.nature.com/articles/nature16183\"> Kjeldsen et al. 2015</a>, Greenland mass change since 1900</small></div>\n",
       "<div class=\"flx50\">\n",
       "\n",
       "</div>\n",
       "<div class=\"flx50 center\"><img src=\"images/kjeldsen2015GreenlandAreal.png\" alt=\"Jakobshavn Glacier\" style=\"width:600px;\" /><small><a href=\"https://www.nature.com/articles/nature16183\"> Kjeldsen et al. 2015</a>, Photogrammetic DEM from (1978-1987) overlaid with ice surface elevation from the Nasa Airborne Topographic Mapper (2003)</small></div>\n",
       "\n",
       "</div>"
      ],
      "text/plain": [
       "<lecture.tools.FlexSlide at 0x7f14b196af70>"
      ]
     },
     "metadata": {},
     "output_type": "display_data"
    }
   ],
   "source": [
    "slidekj=FlexSlide(\"# Using areal photography of Greenland to estimate glacier changes (Kjeldsen et al. 2015)\")\n",
    "slidekj.addItems([\"Areal photography from the 80's provide early snapshots of the glaciers\",\"Use geometric relationship to map front locations to glacier mass change\",\"Identify ice fronts and lateral moraines in DEM to estimate the ice extent in 1900\",\"Shows and accelerated mass balance from -75+/-29 Gt/yr (1900-1983) to -186+/-19 Gt/yr (2003-2010)\"],flxwidth=\"flx50\")\n",
    "slidekj.addimg(\"images/kjeldsen2015Greenland.png\",caption=\"<a href=\\\"https://www.nature.com/articles/nature16183\\\"> Kjeldsen et al. 2015</a>, Greenland mass change since 1900\",alt=\"Greenland mass change\",flxwidth=\"flx50\",width=\"600px\",align=\"center\")\n",
    "slidekj.addmd(\"\",flxwidth=\"flx50\")\n",
    "slidekj.addimg(\"images/kjeldsen2015GreenlandAreal.png\",caption=\"<a href=\\\"https://www.nature.com/articles/nature16183\\\"> Kjeldsen et al. 2015</a>, Photogrammetic DEM from (1978-1987) overlaid with ice surface elevation from the Nasa Airborne Topographic Mapper (2003)\",alt=\"Jakobshavn Glacier\",flxwidth=\"flx50\",width=\"600px\",align=\"center\")\n",
    "slidekj.display()"
   ]
  },
  {
   "cell_type": "code",
   "execution_count": 20,
   "metadata": {
    "slideshow": {
     "slide_type": "slide"
    }
   },
   "outputs": [
    {
     "data": {
      "text/html": [
       "<div id=\"ea59c25b73e37563\"></div>\n",
       "    <script type=\"text/javascript\">\n",
       "        $(function(){\n",
       "            var p = $(\"#ea59c25b73e37563\");\n",
       "            if (p.length==0) return;\n",
       "            while (!p.hasClass(\"cell\")) {\n",
       "                p=p.parent();\n",
       "                if (p.prop(\"tagName\") ==\"body\") return;\n",
       "            }\n",
       "            var cell = p;\n",
       "            cell.find(\".input\").addClass(\"hide-in-slideshow\")\n",
       "        });\n",
       "    </script>"
      ]
     },
     "metadata": {},
     "output_type": "display_data"
    },
    {
     "data": {
      "text/markdown": [
       "# Observing global mean sea level\n",
       "<div class=\"flxsld text_cell\" >\n",
       "\n",
       "\n",
       "<div class=\"flx100\">\n",
       "\n",
       "<ul><li>Radar altimetry enabled global observations of sea level</li><li>Global mean sea level is a good metric for the state of the climate (mass and energy accumulation)</li><li>Sea level budget closure over the altimetry era within ~0.3mm/yr (<a href=\"https://www.earth-syst-sci-data.net/10/1551/2018/\">Cazenave et al. 2018</a>)</li></ul></div>\n",
       "<div class=\"flx50 center\"><img src=\"images/gmsl_2020rel1_seasons_rmvd_4.png\" alt=\"Global mean sea level from  altimetry\" style=\"width:600px;\" /><small>Global mean sea level from  altimetry</small></div>\n",
       "<div class=\"flx50 center\"><img src=\"images/anny2018.png\" alt=\"Sea level budget closure from Cazenave et al. 2018\" style=\"width:600px;\" /><small>Sea level budget closure from Cazenave et al. 2018</small></div>\n",
       "\n",
       "</div>"
      ],
      "text/plain": [
       "<lecture.tools.FlexSlide at 0x7f14b1981670>"
      ]
     },
     "metadata": {},
     "output_type": "display_data"
    }
   ],
   "source": [
    "slidealt=FlexSlide(\"# Observing global mean sea level\")\n",
    "slidealt.addItems([\"Radar altimetry enabled global observations of sea level\",\"Global mean sea level is a good metric for the state of the climate (mass and energy accumulation)\",\"Sea level budget closure over the altimetry era within ~0.3mm/yr (<a href=\\\"https://www.earth-syst-sci-data.net/10/1551/2018/\\\">Cazenave et al. 2018</a>)\"],flxwidth=\"flx100\")\n",
    "slidealt.addimg(\"images/gmsl_2020rel1_seasons_rmvd_4.png\",caption=\"Global mean sea level from  altimetry\",alt=\"Global mean sea level from  altimetry\",flxwidth=\"flx50\",width=\"600px\",align=\"center\")\n",
    "slidealt.addimg(\"images/anny2018.png\",caption=\"Sea level budget closure from Cazenave et al. 2018\",flxwidth=\"flx50\",width=\"600px\",align=\"center\")\n",
    "slidealt.display()"
   ]
  },
  {
   "cell_type": "markdown",
   "metadata": {
    "slideshow": {
     "slide_type": "slide"
    }
   },
   "source": [
    "# Devil is in the detail: ocean mass from GRACE\n",
    "<img src=\"images/uebbing2019.png\" alt=\"Processing choices affect GRACE ocean mass estimate\" style=\"width: 1000px;\"/>\n",
    "\n",
    "Processing choices affect ocean mass estimates [Uebbing et al. 2019](https://agupubs.onlinelibrary.wiley.com/doi/abs/10.1029/2018JC014341). GIA correction in Antarctica remains a large error source"
   ]
  },
  {
   "cell_type": "code",
   "execution_count": 21,
   "metadata": {
    "slideshow": {
     "slide_type": "slide"
    }
   },
   "outputs": [
    {
     "data": {
      "text/html": [
       "<div id=\"b69ad614fecf76a2\"></div>\n",
       "    <script type=\"text/javascript\">\n",
       "        $(function(){\n",
       "            var p = $(\"#b69ad614fecf76a2\");\n",
       "            if (p.length==0) return;\n",
       "            while (!p.hasClass(\"cell\")) {\n",
       "                p=p.parent();\n",
       "                if (p.prop(\"tagName\") ==\"body\") return;\n",
       "            }\n",
       "            var cell = p;\n",
       "            cell.find(\".input\").addClass(\"hide-in-slideshow\")\n",
       "        });\n",
       "    </script>"
      ]
     },
     "metadata": {},
     "output_type": "display_data"
    },
    {
     "data": {
      "text/markdown": [
       "# Global sea level contributions (Frederikse et al. 2020)\n",
       "<div class=\"flxsld text_cell\" >\n",
       "\n",
       "\n",
       "<div class=\"flx50 center\"><img src=\"images/budget_total_3.png\" alt=\"\" style=\"width:600px;\" /></div>\n",
       "<div class=\" fragment fade-in\">\n",
       "\n",
       "<div class=\"flx50 center\"><img src=\"images/budget_total_5.png\" alt=\"\" style=\"width:600px;\" /></div></div>\n",
       "\n",
       "</div>"
      ],
      "text/plain": [
       "<lecture.tools.FlexSlide at 0x7f14b196abe0>"
      ]
     },
     "metadata": {},
     "output_type": "display_data"
    }
   ],
   "source": [
    "slidetf=FlexSlide(\"# Global sea level contributions (Frederikse et al. 2020)\")\n",
    "slidetf.addimg(\"images/budget_total_3.png\",flxwidth=\"flx50\",width=\"600px\",align=\"center\")\n",
    "slidetf.addimg(\"images/budget_total_5.png\",flxwidth=\"flx50\",width=\"600px\",align=\"center\",frag=True)\n",
    "slidetf.display()"
   ]
  },
  {
   "cell_type": "markdown",
   "metadata": {
    "slideshow": {
     "slide_type": "slide"
    }
   },
   "source": [
    "# The Bathtub Fallacy \n",
    "* An oversimplification of the concept of sea level\n",
    "    * Particularly important when we talk about regional sea level change\n",
    "<img src=\"images/SLEQsynfig.gif\" alt=\"Bathtub fallacy\" style=\"width: 1000px;\"/>\n",
    "\n"
   ]
  },
  {
   "cell_type": "code",
   "execution_count": 10,
   "metadata": {
    "slideshow": {
     "slide_type": "slide"
    }
   },
   "outputs": [
    {
     "data": {
      "text/html": [
       "<div id=\"21b285e664e06229\"></div>\n",
       "    <script type=\"text/javascript\">\n",
       "        $(function(){\n",
       "            var p = $(\"#21b285e664e06229\");\n",
       "            if (p.length==0) return;\n",
       "            while (!p.hasClass(\"cell\")) {\n",
       "                p=p.parent();\n",
       "                if (p.prop(\"tagName\") ==\"body\") return;\n",
       "            }\n",
       "            var cell = p;\n",
       "            cell.find(\".input\").addClass(\"hide-in-slideshow\")\n",
       "        });\n",
       "    </script>"
      ]
     },
     "metadata": {},
     "output_type": "display_data"
    },
    {
     "data": {
      "text/markdown": [
       "# The challenge of regional Sea level\n",
       "<div class=\"flxsld text_cell\" >\n",
       "\n",
       "\n",
       "<div class=\"flx50 \"><img src=\"images/carson2017a.png\" alt=\"From Carson et al. 2017\" style=\"width:700px;\" /><small><a href=\"https://agupubs.onlinelibrary.wiley.com/doi/10.1002/2017JC012992\">From Carson et al. 2017</a></small></div>\n",
       "<div class=\" fragment fade-in\">\n",
       "\n",
       "<div class=\"flx50 \"><img src=\"images/carson2017b.png\" alt=\"From Carson et al. 2017\" style=\"width:700px;\" /><small><a href=\"https://agupubs.onlinelibrary.wiley.com/doi/10.1002/2017JC012992\">From Carson et al. 2017</a></small></div></div>\n",
       "\n",
       "</div>"
      ],
      "text/plain": [
       "<lecture.tools.FlexSlide at 0x7f14c8d16e50>"
      ]
     },
     "metadata": {},
     "output_type": "display_data"
    }
   ],
   "source": [
    "sliders=FlexSlide(\"# The challenge of regional Sea level\")\n",
    "sliders.addimg(\"images/carson2017a.png\",flxwidth=\"flx50\",width=\"700px\",alt=\"From Carson et al. 2017\",caption=\"<a href=\\\"https://agupubs.onlinelibrary.wiley.com/doi/10.1002/2017JC012992\\\">From Carson et al. 2017</a>\")\n",
    "sliders.addimg(\"images/carson2017b.png\",flxwidth=\"flx50\",width=\"700px\",alt=\"From Carson et al. 2017\",caption=\"<a href=\\\"https://agupubs.onlinelibrary.wiley.com/doi/10.1002/2017JC012992\\\">From Carson et al. 2017</a>\",frag=True)\n",
    "\n",
    "# slideecv.addItems(flxwidth=\"flx50\",items=[\"Not just for scientific purposes, but monitoring ECV's inform policy on mitigation and adaptation decision\",\"<b>Ice sheets and Ice shelves</b>\",[\"Surface elevation\",\"Ice velocity\",\"Ice mass change\",\"Grounding lines and thickness\"],\"<b>Sea level</b>\",[\"global mean sea level\",\"regional sea level\",\"but missing: vertical land motion\"]])\n",
    "sliders.display()"
   ]
  },
  {
   "cell_type": "code",
   "execution_count": 11,
   "metadata": {
    "slideshow": {
     "slide_type": "slide"
    }
   },
   "outputs": [
    {
     "data": {
      "text/html": [
       "<div id=\"dd63dd766be62901\"></div>\n",
       "    <script type=\"text/javascript\">\n",
       "        $(function(){\n",
       "            var p = $(\"#dd63dd766be62901\");\n",
       "            if (p.length==0) return;\n",
       "            while (!p.hasClass(\"cell\")) {\n",
       "                p=p.parent();\n",
       "                if (p.prop(\"tagName\") ==\"body\") return;\n",
       "            }\n",
       "            var cell = p;\n",
       "            cell.find(\".input\").addClass(\"hide-in-slideshow\")\n",
       "        });\n",
       "    </script>"
      ]
     },
     "metadata": {},
     "output_type": "display_data"
    },
    {
     "data": {
      "text/markdown": [
       "# Separation of vertical land motion and relative sea level (Piecuch et al. 2018)\n",
       "<div class=\"flxsld text_cell\" >\n",
       "\n",
       "\n",
       "<div class=\"flx50\">\n",
       "\n",
       "<ul><li>Use of GPS, Tide gauge and proxy RSL records, and GIA ensemble</li><li>Separate GIA-VLM contributions from local/regional VLM effects with Bayesian framework</li></ul></div>\n",
       "<div class=\"flx50 \"><img src=\"images/piecuch2018a.png\" alt=\"From Piecuch et al. 2018\" style=\"width:700px;\" /><small><a href=\"https://www.nature.com/articles/s41586-018-0787-6\">From Piecuch et al. 2018</a></small></div>\n",
       "<div class=\"flx50 \"><img src=\"images/piecuch2018b.png\" alt=\"From Piecuch et al. 2018\" style=\"width:700px;\" /><small><a href=\"https://www.nature.com/articles/s41586-018-0787-6\">From Piecuch et al. 2018</a></small></div>\n",
       "\n",
       "</div>"
      ],
      "text/plain": [
       "<lecture.tools.FlexSlide at 0x7f14b1981fa0>"
      ]
     },
     "metadata": {},
     "output_type": "display_data"
    }
   ],
   "source": [
    "slidep=FlexSlide(\"# Separation of vertical land motion and relative sea level (Piecuch et al. 2018)\")\n",
    "slidep.addItems(flxwidth=\"flx50\",items=[\"Use of GPS, Tide gauge and proxy RSL records, and GIA ensemble\", \"Separate GIA-VLM contributions from local/regional VLM effects with Bayesian framework\"])\n",
    "\n",
    "slidep.addimg(\"images/piecuch2018a.png\",flxwidth=\"flx50\",width=\"700px\",alt=\"From Piecuch et al. 2018\",caption=\"<a href=\\\"https://www.nature.com/articles/s41586-018-0787-6\\\">From Piecuch et al. 2018</a>\")\n",
    "slidep.addimg(\"images/piecuch2018b.png\",flxwidth=\"flx50\",width=\"700px\",alt=\"From Piecuch et al. 2018\",caption=\"<a href=\\\"https://www.nature.com/articles/s41586-018-0787-6\\\">From Piecuch et al. 2018</a>\")\n",
    "slidep.display()"
   ]
  },
  {
   "cell_type": "code",
   "execution_count": 12,
   "metadata": {
    "slideshow": {
     "slide_type": "slide"
    }
   },
   "outputs": [
    {
     "data": {
      "text/html": [
       "<div id=\"525acd6ba450c818\"></div>\n",
       "    <script type=\"text/javascript\">\n",
       "        $(function(){\n",
       "            var p = $(\"#525acd6ba450c818\");\n",
       "            if (p.length==0) return;\n",
       "            while (!p.hasClass(\"cell\")) {\n",
       "                p=p.parent();\n",
       "                if (p.prop(\"tagName\") ==\"body\") return;\n",
       "            }\n",
       "            var cell = p;\n",
       "            cell.find(\".input\").addClass(\"hide-in-slideshow\")\n",
       "        });\n",
       "    </script>"
      ]
     },
     "metadata": {},
     "output_type": "display_data"
    },
    {
     "data": {
      "text/markdown": [
       "# The importance of Vertical Land Motion\n",
       "<div class=\"flxsld text_cell\" >\n",
       "\n",
       "\n",
       "<div class=\"flx50 \"><img src=\"images/csm_TRANSOCAP_fig2_9be16e3ff2.png\" alt=\"Land subsidence in Semarang Indonesia\" style=\"width:600px;\" /><small>Land subsidence in Semarang Indonesia, pic by Lisa Bott, SPP1889 TRANSOCAP, Uni Köln</small></div>\n",
       "<div class=\"flx50 \"><img src=\"images/shirzaei2021b.png\" alt=\"Vertical land motion time scales and magnitudes\" style=\"width:900px;\" /><small>Shirzaei et al. 2021</small></div>\n",
       "\n",
       "</div>"
      ],
      "text/plain": [
       "<lecture.tools.FlexSlide at 0x7f14b1981820>"
      ]
     },
     "metadata": {},
     "output_type": "display_data"
    }
   ],
   "source": [
    "slidevlm=FlexSlide(\"# The importance of Vertical Land Motion\")\n",
    "slidevlm.addimg(\"images/csm_TRANSOCAP_fig2_9be16e3ff2.png\",flxwidth=\"flx50\",width=\"600px\",alt=\"Land subsidence in Semarang Indonesia\",caption=\"Land subsidence in Semarang Indonesia, pic by Lisa Bott, SPP1889 TRANSOCAP, Uni Köln\")\n",
    "slidevlm.addimg(\"images/shirzaei2021b.png\",flxwidth=\"flx50\",width=\"900px\",alt=\"Vertical land motion time scales and magnitudes\",caption=\"Shirzaei et al. 2021\")\n",
    "# slidevlm.addimg(\"images/shirzaei2021a.png\",flxwidth=\"flx50\",width=\"700px\",alt=\"Vertical land motion time scales and magnitudes\",caption=\"Shirzaei et al. 2021\")\n",
    "\n",
    "slidevlm.display()"
   ]
  },
  {
   "cell_type": "markdown",
   "metadata": {
    "slideshow": {
     "slide_type": "slide"
    }
   },
   "source": [
    "# Opportunities for combining Sar interferometry and GNSS?\n",
    "![vertical land motion](images/shirzaei2021a.png)\n",
    "<small><a href=\"https://www.nature.com/articles/s43017-020-00115-x\"> Shirzaei et al. 2021</a></small>"
   ]
  },
  {
   "cell_type": "markdown",
   "metadata": {
    "slideshow": {
     "slide_type": "slide"
    }
   },
   "source": [
    "# Recap so far\n",
    "* Thanks to paleo, historic and satellite measurements, we have handles on changes in the ice sheets and sea level\n",
    "    * Recent accelerations are telling a consistent story of ice mass loss and sea level rise acceleration\n",
    "    * We have a good idea of the underlying contributors of global mean sea level\n",
    "* Regional sea level is more challenging\n",
    "    * Non stationary over time\n",
    "    * Separation of local from regional vertical land motion\n",
    "    * But there's considerable progress in \"fusion\" of geodetic data and separation of different contributors by various inversion methods\n"
   ]
  },
  {
   "cell_type": "code",
   "execution_count": 13,
   "metadata": {
    "cell_style": "center",
    "slideshow": {
     "slide_type": "slide"
    }
   },
   "outputs": [
    {
     "data": {
      "text/html": [
       "<div id=\"7671df06091c221d\"></div>\n",
       "    <script type=\"text/javascript\">\n",
       "        $(function(){\n",
       "            var p = $(\"#7671df06091c221d\");\n",
       "            if (p.length==0) return;\n",
       "            while (!p.hasClass(\"cell\")) {\n",
       "                p=p.parent();\n",
       "                if (p.prop(\"tagName\") ==\"body\") return;\n",
       "            }\n",
       "            var cell = p;\n",
       "            cell.find(\".input\").addClass(\"hide-in-slideshow\")\n",
       "        });\n",
       "    </script>"
      ]
     },
     "metadata": {},
     "output_type": "display_data"
    },
    {
     "data": {
      "text/markdown": [
       "# Sea level and ice sheets as Essential Climate Variables\n",
       "<div class=\"flxsld text_cell\" >\n",
       "\n",
       "\n",
       "<div class=\"flx50 \"><img src=\"images/ECVgraphics.png\" alt=\"GCOS ECV\" style=\"width:700px;\" /><small><a href=\"https://gcos.wmo.int/en/essential-climate-variables\">GCOS ECV's</a></small></div>\n",
       "<div class=\"flx50\">\n",
       "\n",
       "<ul><li>Not just for scientific purposes, but monitoring ECV's inform policy on mitigation and adaptation decisions</li><li>More inviting for <b>operational</b> use (e.g. assimilation)</li><li><b>Ice sheets and Ice shelves</b></li><ul><li>Surface elevation</li><li>Ice velocity</li><li>Ice mass change</li><li>Grounding lines and thickness</li></ul><li><b>Sea level</b></li><ul><li>global mean sea level</li><li>regional sea level</li><li>but missing: vertical land motion...</li></ul></ul></div>\n",
       "\n",
       "</div>"
      ],
      "text/plain": [
       "<lecture.tools.FlexSlide at 0x7f14b196a940>"
      ]
     },
     "metadata": {},
     "output_type": "display_data"
    }
   ],
   "source": [
    "slideecv=FlexSlide(\"# Sea level and ice sheets as Essential Climate Variables\")\n",
    "slideecv.addimg(\"images/ECVgraphics.png\",flxwidth=\"flx50\",width=\"700px\",alt=\"GCOS ECV\",caption=\"<a href=\\\"https://gcos.wmo.int/en/essential-climate-variables\\\">GCOS ECV's</a>\")\n",
    "slideecv.addItems(flxwidth=\"flx50\",items=[\"Not just for scientific purposes, but monitoring ECV's inform policy on mitigation and adaptation decisions\",\"More inviting for <b>operational</b> use (e.g. assimilation)\",\"<b>Ice sheets and Ice shelves</b>\",[\"Surface elevation\",\"Ice velocity\",\"Ice mass change\",\"Grounding lines and thickness\"],\"<b>Sea level</b>\",[\"global mean sea level\",\"regional sea level\",\"but missing: vertical land motion...\"]])\n",
    "slideecv.display()"
   ]
  },
  {
   "cell_type": "code",
   "execution_count": 14,
   "metadata": {
    "slideshow": {
     "slide_type": "slide"
    }
   },
   "outputs": [
    {
     "data": {
      "text/html": [
       "<div id=\"a59cbf6a987072ba\"></div>\n",
       "    <script type=\"text/javascript\">\n",
       "        $(function(){\n",
       "            var p = $(\"#a59cbf6a987072ba\");\n",
       "            if (p.length==0) return;\n",
       "            while (!p.hasClass(\"cell\")) {\n",
       "                p=p.parent();\n",
       "                if (p.prop(\"tagName\") ==\"body\") return;\n",
       "            }\n",
       "            var cell = p;\n",
       "            cell.find(\".input\").addClass(\"hide-in-slideshow\")\n",
       "        });\n",
       "    </script>"
      ]
     },
     "metadata": {},
     "output_type": "display_data"
    },
    {
     "data": {
      "text/markdown": [
       "# Example: Antarctic Ice mass changes from the Climate Change Initiative\n",
       "<div class=\"flxsld text_cell\" >\n",
       "\n",
       "\n",
       "<div class=\"flx100\">\n",
       "\n",
       "<ul><li>Products based on GRACE/GRACE-FO solutions of release CSR RL06</li><li><a href=\"https://data1.geo.tu-dresden.de/ais_gmb\">Download and visualize https://data1.geo.tu-dresden.de/ais_gmb</a></li></ul></div>\n",
       "<div class=\"flx50 \"><img src=\"images/AndreasGRACESMB.png\" alt=\"Antarctic mass balance change over the years\" style=\"width:700px;\" /><small>Courtesy Andreas Groh TU Dresden, gridded product</small></div>\n",
       "<div class=\" fragment fade-in\">\n",
       "\n",
       "<div class=\"flx50 \"><img src=\"images/AndreasGRACESMBbasin.png\" alt=\"Antarctic mass balance basin change over the years\" style=\"width:700px;\" /><small>Basin product</small></div></div>\n",
       "\n",
       "</div>"
      ],
      "text/plain": [
       "<lecture.tools.FlexSlide at 0x7f14b1981e20>"
      ]
     },
     "metadata": {},
     "output_type": "display_data"
    }
   ],
   "source": [
    "slideant=FlexSlide(\"# Example: Antarctic Ice mass changes from the Climate Change Initiative\")\n",
    "slideant.addItems(flxwidth=\"flx100\",items=[\"Products based on GRACE/GRACE-FO solutions of release CSR RL06\",\"<a href=\\\"https://data1.geo.tu-dresden.de/ais_gmb\\\">Download and visualize https://data1.geo.tu-dresden.de/ais_gmb</a>\"])\n",
    "slideant.addimg(\"images/AndreasGRACESMB.png\",flxwidth=\"flx50\",width=\"700px\",alt=\"Antarctic mass balance change over the years\",caption=\"Courtesy Andreas Groh TU Dresden, gridded product\")\n",
    "slideant.addimg(\"images/AndreasGRACESMBbasin.png\",flxwidth=\"flx50\",width=\"700px\",alt=\"Antarctic mass balance basin change over the years\",caption=\"Basin product\",frag=True)\n",
    "slideant.display()"
   ]
  },
  {
   "cell_type": "markdown",
   "metadata": {
    "slideshow": {
     "slide_type": "slide"
    }
   },
   "source": [
    "# Are we dancing for the right audience?\n",
    "\"*If it measures the Earth it's probably geodesy*\": Rene Forsberg, during the IAG 2017 Workshop in Bonn\n"
   ]
  },
  {
   "cell_type": "markdown",
   "metadata": {
    "slideshow": {
     "slide_type": "fragment"
    }
   },
   "source": [
    "![Geodesy has a visibility problem](images/changemymind.jpg)"
   ]
  }
 ],
 "metadata": {
  "celltoolbar": "Slideshow",
  "kernelspec": {
   "display_name": "Python 3",
   "language": "python",
   "name": "python3"
  },
  "language_info": {
   "codemirror_mode": {
    "name": "ipython",
    "version": 3
   },
   "file_extension": ".py",
   "mimetype": "text/x-python",
   "name": "python",
   "nbconvert_exporter": "python",
   "pygments_lexer": "ipython3",
   "version": "3.9.2"
  },
  "rise": {
   "autolaunch": true,
   "enable_chalkboard": true,
   "footer": "<div><h3>A Tango between Ice and Sea level, R. Rietbroek, ICCC Workshop, 29-31 March 2020</h3></div><div id=\"logobox\"><img src=\"images/logoiag.png\" alt=\"IAG Logo\"/ style=\"margin-right:20px;\"><img src=\"images/logo.svg\" alt=\"Logo\"/></div>",
   "slideNumber": "c/t",
   "theme": "black",
   "transition": "None"
  }
 },
 "nbformat": 4,
 "nbformat_minor": 2
}
