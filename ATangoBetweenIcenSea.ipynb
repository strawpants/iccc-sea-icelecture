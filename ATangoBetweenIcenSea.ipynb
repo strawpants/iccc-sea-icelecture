{
 "cells": [
  {
   "cell_type": "code",
   "execution_count": 1,
   "metadata": {
    "slideshow": {
     "slide_type": "skip"
    }
   },
   "outputs": [],
   "source": [
    "%load_ext autoreload\n",
    "%autoreload 2"
   ]
  },
  {
   "cell_type": "code",
   "execution_count": 88,
   "metadata": {
    "slideshow": {
     "slide_type": "skip"
    }
   },
   "outputs": [],
   "source": [
    "from lecture.tools import hideCode,FlexSlide"
   ]
  },
  {
   "cell_type": "markdown",
   "metadata": {
    "slideshow": {
     "slide_type": "slide"
    }
   },
   "source": [
    "# A Tango between Ice and Sea level\n",
    "<center>\n",
    "<div class=\"layered-div\">\n",
    " <img src=\"images/tango-burgas-12.jpg\" alt=\"Tango dancers\" style=\"width: 800px;\"/>\n",
    "    <div class=\"over-top-right\"> <a href=\"https://travelbulgaria.news/wp-content/uploads/2017/04/tango-burgas-12.jpg\"><small>image credit</small></a></div>\n",
    "</div></center>\n",
    "Roelof Rietbroek, with contributions from Ingo Sasgen, Thomas Frederikse, Andreas Groh, Riccardo Riva\n",
    "\n",
    "Relevant ICCC joint working groups:\n",
    "* JWG C.3: Geodesy for the Cryosphere: advancing the use of geodetic data in polar climate modelling\n",
    "* JWG C.4: Sea level and vertical land motion"
   ]
  },
  {
   "cell_type": "code",
   "execution_count": 6,
   "metadata": {
    "slideshow": {
     "slide_type": "slide"
    }
   },
   "outputs": [
    {
     "data": {
      "text/html": [
       "<div id=\"91659efd4bb20da1\"></div>\n",
       "    <script type=\"text/javascript\">\n",
       "        $(function(){\n",
       "            var p = $(\"#91659efd4bb20da1\");\n",
       "            if (p.length==0) return;\n",
       "            while (!p.hasClass(\"cell\")) {\n",
       "                p=p.parent();\n",
       "                if (p.prop(\"tagName\") ==\"body\") return;\n",
       "            }\n",
       "            var cell = p;\n",
       "            cell.find(\".input\").addClass(\"hide-in-slideshow\")\n",
       "        });\n",
       "    </script>"
      ]
     },
     "metadata": {},
     "output_type": "display_data"
    },
    {
     "data": {
      "text/markdown": [
       "# They've been dancing since the last Quaternary (~2.6 Million yrs bp)\n",
       "<div class=\"flxsld text_cell\" >\n",
       "\n",
       "\n",
       "<div class=\"\">\n",
       "\n",
       "<div class=\"flx50\"><img src=\"images/GowanIceTango.webp\" alt=\"Sea level and ice volume over the last 80k year\" style=\"width:550px;\" /><small> <a href=\"https://www.nature.com/articles/s41467-021-21469-w\" > Evan Gowan et al. 2021 </a></small></div></div>\n",
       "<div class=\"\">\n",
       "\n",
       "<div class=\"flx50\"><img src=\"images/gowan2021LGM.webp\" alt=\"\" style=\"width:550px;\" /></div></div>\n",
       "<div class=\"flx100\">\n",
       "\n",
       "<ul><li class=\"fragment fade-in\">Sealevel <-> ice volume</li><li class=\"fragment fade-in\">How do we know? sea level indicators and proxies: corals, oxygen isotopes,..</li><li class=\"fragment fade-in\">Challenge is to reconcile sea level indicators with physics of glacial isostatic adjustment</li></ul></div>\n",
       "\n",
       "</div>"
      ],
      "text/plain": [
       "<lecture.tools.FlexSlide at 0x7f8468d68670>"
      ]
     },
     "metadata": {},
     "output_type": "display_data"
    }
   ],
   "source": [
    "slide=FlexSlide(\"# They've been dancing since the last Quaternary (~2.6 Million yrs bp)\")\n",
    "slide.addimg(\"images/GowanIceTango.webp\",alt=\"Sea level and ice volume over the last 80k year\",caption=\" <a href=\\\"https://www.nature.com/articles/s41467-021-21469-w\\\" > Evan Gowan et al. 2021 </a>\",flxwidth=\"flx50\",width=\"550px\")\n",
    "slide.addimg(\"images/gowan2021LGM.webp\",flxwidth=\"flx50\",width=\"550px\")\n",
    "slide.addItems([\"Sealevel <-> ice volume\",\"How do we know? sea level indicators and proxies: corals, oxygen isotopes,..\",\"Challenge is to reconcile sea level indicators with physics of glacial isostatic adjustment\"],flxwidth=\"flx100\", frag=True)\n",
    "slide.display()"
   ]
  },
  {
   "cell_type": "code",
   "execution_count": 33,
   "metadata": {
    "slideshow": {
     "slide_type": "slide"
    }
   },
   "outputs": [
    {
     "data": {
      "text/html": [
       "<div id=\"4a8192cc5c6e229c\"></div>\n",
       "    <script type=\"text/javascript\">\n",
       "        $(function(){\n",
       "            var p = $(\"#4a8192cc5c6e229c\");\n",
       "            if (p.length==0) return;\n",
       "            while (!p.hasClass(\"cell\")) {\n",
       "                p=p.parent();\n",
       "                if (p.prop(\"tagName\") ==\"body\") return;\n",
       "            }\n",
       "            var cell = p;\n",
       "            cell.find(\".input\").addClass(\"hide-in-slideshow\")\n",
       "        });\n",
       "    </script>"
      ]
     },
     "metadata": {},
     "output_type": "display_data"
    },
    {
     "data": {
      "text/markdown": [
       "# Direct observations of sea level: Tide Gauges\n",
       "<div class=\"flxsld text_cell\" >\n",
       "\n",
       "\n",
       "<div class=\"\">\n",
       "\n",
       "<div class=\"flx75\"><img src=\"images/psmsl.png\" alt=\"global plot of tide gauge locations\" style=\"width:800px;\" /><small><a href=\"https:psmsl.org\">Tide gauge locations from the Permanent Service of Mean Sea level (PSMSL)</a></small></div></div>\n",
       "<div class=\"\">\n",
       "\n",
       "<div class=\"flx25\"><img src=\"images/GreenlandTG1926.jpg\" alt=\"Inspection of a Greenland tide gauge\" style=\"width:500px;\" /><small><a href=\"https://www.climate.gov/news-features/climate-tech/reading-between-tides-200-years-measuring-global-sea-level\">Inspection of a Greenland TG, 1926, Credit: NOAA</a></small></div></div>\n",
       "<div class=\"flx100\">\n",
       "\n",
       "<ul><li>Some tide gauge records go back to the 18-19th century!</li><li>Useful for charting tides, but also <b>relative sea level</b> rise</li><li>'Asymmetrical' coverage (space and time)</li></ul></div>\n",
       "\n",
       "</div>"
      ],
      "text/plain": [
       "<lecture.tools.FlexSlide at 0x7f8468d68490>"
      ]
     },
     "metadata": {},
     "output_type": "display_data"
    }
   ],
   "source": [
    "slidetg0=FlexSlide(\"# Direct observations of sea level: Tide Gauges\")\n",
    "slidetg0.addimg(\"images/psmsl.png\",alt=\"global plot of tide gauge locations\",flxwidth=\"flx75\",width=\"800px\",caption=\"<a href=\\\"https:psmsl.org\\\">Tide gauge locations from the Permanent Service of Mean Sea level (PSMSL)</a>\")\n",
    "slidetg0.addimg(\"images/GreenlandTG1926.jpg\",alt=\"Inspection of a Greenland tide gauge\",flxwidth=\"flx25\",width=\"500px\",caption=\"<a href=\\\"https://www.climate.gov/news-features/climate-tech/reading-between-tides-200-years-measuring-global-sea-level\\\">Inspection of a Greenland TG, 1926, Credit: NOAA</a>\")\n",
    "slidetg0.addItems([\"Some tide gauge records go back to the 18-19th century!\",\"Useful for charting tides, but also <b>relative sea level</b> rise\",\"\\'Asymmetrical\\' coverage (space and time)\"],flxwidth=\"flx100\")\n",
    "slidetg0.display()"
   ]
  },
  {
   "cell_type": "code",
   "execution_count": 48,
   "metadata": {
    "cell_style": "center",
    "slideshow": {
     "slide_type": "slide"
    }
   },
   "outputs": [
    {
     "data": {
      "text/html": [
       "<div id=\"ae7b733cf667fbab\"></div>\n",
       "    <script type=\"text/javascript\">\n",
       "        $(function(){\n",
       "            var p = $(\"#ae7b733cf667fbab\");\n",
       "            if (p.length==0) return;\n",
       "            while (!p.hasClass(\"cell\")) {\n",
       "                p=p.parent();\n",
       "                if (p.prop(\"tagName\") ==\"body\") return;\n",
       "            }\n",
       "            var cell = p;\n",
       "            cell.find(\".input\").addClass(\"hide-in-slideshow\")\n",
       "        });\n",
       "    </script>"
      ]
     },
     "metadata": {},
     "output_type": "display_data"
    },
    {
     "data": {
      "text/markdown": [
       "# James Clark Ross' voyage of research and discovery in the Southern Ocean (1839-1843)\n",
       "<div class=\"flxsld text_cell\" >\n",
       "\n",
       "\n",
       "<div class=\"\">\n",
       "\n",
       "<div class=\"flx33\"><img src=\"images/RossBenchmark.png\" alt=\"Sea level Ross benchmark from 1842\" style=\"width:450px;\" /></div></div>\n",
       "<div class=\"\">\n",
       "\n",
       "<div class=\"flx33\"><img src=\"images/PortLouisCombined.png\" alt=\"Map of relevant sea level observation sites in the Falklands\" style=\"width:450px;\" /><small> <a href=\"https://agupubs.onlinelibrary.wiley.com/doi/abs/10.1029/2010JC006113\" > Woodworth et al. 2010 </a></small></div></div>\n",
       "<div class=\"flx33\">\n",
       "\n",
       "<ul><li>Take home message: Make benchmarks as indestructible as possible</li><li>19th century sea level observations (~1 year) in the Falklands (Port Louis)</li><li>Corrections needed: air pressure (IB), Glacial Isostatic Adjustment</li><li>Connecting the history series to more recent records yields a trend estimate of 1.23 ± 0.22 mm/yr (Woodworth et al. 2010)</li></ul></div>\n",
       "\n",
       "</div>"
      ],
      "text/plain": [
       "<lecture.tools.FlexSlide at 0x7f8468d680d0>"
      ]
     },
     "metadata": {},
     "output_type": "display_data"
    }
   ],
   "source": [
    "slidetg=FlexSlide(\"# James Clark Ross' voyage of research and discovery in the Southern Ocean (1839-1843)\")\n",
    "slidetg.addimg(\"images/RossBenchmark.png\",alt=\"Sea level Ross benchmark from 1842\",flxwidth=\"flx33\",width=\"450px\")\n",
    "slidetg.addimg(\"images/PortLouisCombined.png\",alt=\"Map of relevant sea level observation sites in the Falklands\",flxwidth=\"flx33\",width=\"450px\",caption=\" <a href=\\\"https://agupubs.onlinelibrary.wiley.com/doi/abs/10.1029/2010JC006113\\\" > Woodworth et al. 2010 </a>\")\n",
    "slidetg.addItems([\"Take home message: Make benchmarks as indestructible as possible\",\"19th century sea level observations (~1 year) in the Falklands (Port Louis)\",\"Corrections needed: air pressure (IB), Glacial Isostatic Adjustment\",\"Connecting the history series to more recent records yields a trend estimate of 1.23 ± 0.22 mm/yr (Woodworth et al. 2010)\"],flxwidth=\"flx33\")\n",
    "slidetg.display()"
   ]
  },
  {
   "cell_type": "code",
   "execution_count": 78,
   "metadata": {
    "slideshow": {
     "slide_type": "slide"
    }
   },
   "outputs": [
    {
     "data": {
      "text/html": [
       "<div id=\"b57a9bba2f75f39f\"></div>\n",
       "    <script type=\"text/javascript\">\n",
       "        $(function(){\n",
       "            var p = $(\"#b57a9bba2f75f39f\");\n",
       "            if (p.length==0) return;\n",
       "            while (!p.hasClass(\"cell\")) {\n",
       "                p=p.parent();\n",
       "                if (p.prop(\"tagName\") ==\"body\") return;\n",
       "            }\n",
       "            var cell = p;\n",
       "            cell.find(\".input\").addClass(\"hide-in-slideshow\")\n",
       "        });\n",
       "    </script>"
      ]
     },
     "metadata": {},
     "output_type": "display_data"
    },
    {
     "data": {
      "text/markdown": [
       "# Using areal photography of Greenland to estimate glacier changes (Kjeldsen et al. 2015)\n",
       "<div class=\"flxsld text_cell\" >\n",
       "\n",
       "\n",
       "<div class=\"flx50\">\n",
       "\n",
       "<ul><li>Areal photographic evidence from the 80's provide early snapshots of the glacier ice extents</li><li>Use geometric relationship to map front locations to glacier mass change</li><li>Identify ice fronts and lateral moraines in DEM to estimate the ice extent in 1900</li><li>Shows and accelerated mass balance from -75+/-29 Gt/yr (1900-1983) to -186+/-19 Gt/yr (2003-2010)</li></ul></div>\n",
       "<div class=\"\">\n",
       "\n",
       "<div class=\"flx50\"><img src=\"images/kjeldsen2015Greenland.png\" alt=\"Greenland mass change\" style=\"width:600px;\" /><small><a href=\"https://www.nature.com/articles/nature16183\"> Kjeldsen et al. 2015</a>, Greenland mass change since 1900</small></div></div>\n",
       "<div class=\"flx50\">\n",
       "\n",
       "</div>\n",
       "<div class=\"\">\n",
       "\n",
       "<div class=\"flx50\"><img src=\"images/kjeldsen2015GreenlandAreal.png\" alt=\"Jakobshavn Glacier\" style=\"width:600px;\" /><small><a href=\"https://www.nature.com/articles/nature16183\"> Kjeldsen et al. 2015</a>, Photogrammetic DEM from (1978-1987) overlaid with ice surface elevation from the Nasa Airborne Topographic Mapper (2003)</small></div></div>\n",
       "\n",
       "</div>"
      ],
      "text/plain": [
       "<lecture.tools.FlexSlide at 0x7f8468d683d0>"
      ]
     },
     "metadata": {},
     "output_type": "display_data"
    }
   ],
   "source": [
    "slidekj=FlexSlide(\"# Using areal photography of Greenland to estimate glacier changes (Kjeldsen et al. 2015)\")\n",
    "slidekj.addItems([\"Areal photographic evidence from the 80's provide early snapshots of the glacier ice extents\",\"Use geometric relationship to map front locations to glacier mass change\",\"Identify ice fronts and lateral moraines in DEM to estimate the ice extent in 1900\",\"Shows and accelerated mass balance from -75+/-29 Gt/yr (1900-1983) to -186+/-19 Gt/yr (2003-2010)\"],flxwidth=\"flx50\")\n",
    "slidekj.addimg(\"images/kjeldsen2015Greenland.png\",caption=\"<a href=\\\"https://www.nature.com/articles/nature16183\\\"> Kjeldsen et al. 2015</a>, Greenland mass change since 1900\",alt=\"Greenland mass change\",flxwidth=\"flx50\",width=\"600px\")\n",
    "slidekj.addmd(\"\",flxwidth=\"flx50\")\n",
    "slidekj.addimg(\"images/kjeldsen2015GreenlandAreal.png\",caption=\"<a href=\\\"https://www.nature.com/articles/nature16183\\\"> Kjeldsen et al. 2015</a>, Photogrammetic DEM from (1978-1987) overlaid with ice surface elevation from the Nasa Airborne Topographic Mapper (2003)\",alt=\"Jakobshavn Glacier\",flxwidth=\"flx50\",width=\"600px\")\n",
    "slidekj.display()"
   ]
  },
  {
   "cell_type": "code",
   "execution_count": 100,
   "metadata": {
    "cell_style": "center",
    "slideshow": {
     "slide_type": "slide"
    }
   },
   "outputs": [
    {
     "data": {
      "text/html": [
       "<div id=\"4993465c4eb5ddc9\"></div>\n",
       "    <script type=\"text/javascript\">\n",
       "        $(function(){\n",
       "            var p = $(\"#4993465c4eb5ddc9\");\n",
       "            if (p.length==0) return;\n",
       "            while (!p.hasClass(\"cell\")) {\n",
       "                p=p.parent();\n",
       "                if (p.prop(\"tagName\") ==\"body\") return;\n",
       "            }\n",
       "            var cell = p;\n",
       "            cell.find(\".input\").addClass(\"hide-in-slideshow\")\n",
       "        });\n",
       "    </script>"
      ]
     },
     "metadata": {},
     "output_type": "display_data"
    },
    {
     "data": {
      "text/markdown": [
       "# Sea level and ice sheets as Essential Climate Variables\n",
       "<div class=\"flxsld text_cell\" >\n",
       "\n",
       "\n",
       "<div class=\"\">\n",
       "\n",
       "<div class=\"flx50\"><img src=\"images/ECVgraphics.png\" alt=\"GCOS ECV\" style=\"width:700px;\" /><small><a href=\"https://gcos.wmo.int/en/essential-climate-variables\">GCOS ECV's</a></small></div></div>\n",
       "<div class=\"flx50\">\n",
       "\n",
       "<ul><li>Not just for scientific purposes, but monitoring ECV's inform policy on mitigation and adaptation decision</li><li><b>Ice sheets and Ice shelves</b></li><ul><li>Surface elevation</li><li>Ice velocity</li><li>Ice mass change</li><li>Grounding lines and thickness</li></ul><li><b>Sea level</b></li><ul><li>global mean sea level</li><li>regional sea level</li><li>but missing: vertical land motion</li></ul></ul></div>\n",
       "\n",
       "</div>"
      ],
      "text/plain": [
       "<lecture.tools.FlexSlide at 0x7f8468cc4100>"
      ]
     },
     "metadata": {},
     "output_type": "display_data"
    }
   ],
   "source": [
    "slideecv=FlexSlide(\"# Sea level and ice sheets as Essential Climate Variables\")\n",
    "\n",
    "slideecv.addimg(\"images/ECVgraphics.png\",flxwidth=\"flx50\",width=\"700px\",alt=\"GCOS ECV\",caption=\"<a href=\\\"https://gcos.wmo.int/en/essential-climate-variables\\\">GCOS ECV's</a>\")\n",
    "slideecv.addItems(flxwidth=\"flx50\",items=[\"Not just for scientific purposes, but monitoring ECV's inform policy on mitigation and adaptation decision\",\"<b>Ice sheets and Ice shelves</b>\",[\"Surface elevation\",\"Ice velocity\",\"Ice mass change\",\"Grounding lines and thickness\"],\"<b>Sea level</b>\",[\"global mean sea level\",\"regional sea level\",\"but missing: vertical land motion\"]])\n",
    "slideecv.display()"
   ]
  },
  {
   "cell_type": "markdown",
   "metadata": {
    "slideshow": {
     "slide_type": "slide"
    }
   },
   "source": [
    "# Example: Antarctic Ice mass changes from the Climate Change Initiative\n",
    "* Monthly products based on GRACE/GRACE-FO solutions of release CSR RL06\n",
    "* [Download and visualize https://data1.geo.tu-dresden.de/ais_gmb](https://data1.geo.tu-dresden.de/ais_gmb)\n",
    "\n",
    "\n",
    "\n",
    "\n",
    "\n"
   ]
  },
  {
   "cell_type": "markdown",
   "metadata": {
    "cell_style": "split",
    "slideshow": {
     "slide_type": "fragment"
    }
   },
   "source": [
    "![AndreasGRACESMB.png](images/AndreasGRACESMB.png)\n",
    "<small>Courtesy Andreas Groh TU Dresden, gridded product</small>"
   ]
  },
  {
   "cell_type": "markdown",
   "metadata": {
    "cell_style": "split",
    "slideshow": {
     "slide_type": "fragment"
    }
   },
   "source": [
    "![AndreasGRACESMB.png](images/AndreasGRACESMBbasin.png)\n",
    "<small>Basin product</small>"
   ]
  },
  {
   "cell_type": "markdown",
   "metadata": {
    "slideshow": {
     "slide_type": "slide"
    }
   },
   "source": [
    "# Partitioning global sea level \n",
    "\n",
    "* Highlight Paper Thomas\n",
    "![global mean sea level](images/GMSLbudgetThomas.png)"
   ]
  },
  {
   "cell_type": "markdown",
   "metadata": {},
   "source": [
    "\n",
    "# From global to regional sea level\n",
    "Move from ice sheets to global contributions\n",
    "Zoom in to regional examples and vertical land motion\n",
    "Do tide gauges see what altimeters are seeing\n",
    "Emerging field: coastal subsidence monitoring with GPS and inSAR, [IS] near-coastal altimetry\n",
    "https://www.nature.com/articles/s43017-020-00115-x\n",
    "[IS] From regional projections to coastal protection – why this is complicated."
   ]
  },
  {
   "cell_type": "markdown",
   "metadata": {
    "cell_style": "center",
    "slideshow": {
     "slide_type": "slide"
    }
   },
   "source": [
    "# Regional sea level\n",
    "* Highlight recent paper on Atlantic\n"
   ]
  },
  {
   "cell_type": "markdown",
   "metadata": {
    "cell_style": "center",
    "slideshow": {
     "slide_type": "slide"
    }
   },
   "source": [
    "# Looking in the future\n",
    "* Highlight paper by Aimee? (projections)\n",
    "* Future strategies: are we taking enough advantage of geodetic data? Move into climate sciences, but also move in\n",
    "* Keeping projections in check: What would we like to have as a future observation system?\n",
    "* The future of computing: Cloud versus local computing\n",
    "* Making research accessible\n",
    "\n",
    "Boundaries of geophysical observation systems? New ideas for next gen of scientists\n",
    "## diccuss ICCC & JWG's\n",
    "JWG.3 is about 1) enhancing the use of geodetic data in ice sheet and glacier modeling, 2) understanding requirements of modelling community and 3) exploring potential of future geodetic observables."
   ]
  }
 ],
 "metadata": {
  "celltoolbar": "Slideshow",
  "kernelspec": {
   "display_name": "Python 3",
   "language": "python",
   "name": "python3"
  },
  "language_info": {
   "codemirror_mode": {
    "name": "ipython",
    "version": 3
   },
   "file_extension": ".py",
   "mimetype": "text/x-python",
   "name": "python",
   "nbconvert_exporter": "python",
   "pygments_lexer": "ipython3",
   "version": "3.9.2"
  },
  "rise": {
   "autolaunch": true,
   "enable_chalkboard": true,
   "footer": "<div><h3>A Tango between Ice and Sea level, R. Rietbroek, ICCC Workshop, 29-31 March 2020</h3></div><div id=\"logobox\"><img src=\"images/logo.svg\" alt=\"Logo\"/></div>",
   "slideNumber": "c/t",
   "theme": "black",
   "transition": "None"
  }
 },
 "nbformat": 4,
 "nbformat_minor": 2
}
